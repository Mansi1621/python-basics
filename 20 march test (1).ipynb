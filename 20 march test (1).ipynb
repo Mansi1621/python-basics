{
 "cells": [
  {
   "cell_type": "markdown",
   "metadata": {},
   "source": [
    "# Q.1 Write a Python program to check if a string is a palindrome"
   ]
  },
  {
   "cell_type": "code",
   "execution_count": 1,
   "metadata": {},
   "outputs": [
    {
     "name": "stdout",
     "output_type": "stream",
     "text": [
      "Enter string:bhokardole\n",
      "The string is not a Palindrome. \n",
      "None\n"
     ]
    }
   ],
   "source": [
    "def is_Palindrome(string):\n",
    "    \n",
    "    if (string == string[::-1]):\n",
    "        print(\"The string is a Palindrome.\")\n",
    "    else:\n",
    "        print(\"The string is not a Palindrome. \")\n",
    "        \n",
    "string = input(\"Enter string:\")\n",
    "print (is_Palindrome(string))\n",
    "        "
   ]
  },
  {
   "cell_type": "markdown",
   "metadata": {},
   "source": [
    "# Q.2 Write a Python program to find the factorial of a number?"
   ]
  },
  {
   "cell_type": "code",
   "execution_count": 2,
   "metadata": {},
   "outputs": [
    {
     "name": "stdout",
     "output_type": "stream",
     "text": [
      "Enter a number: 8\n",
      "Factorial of 8 is 40320\n"
     ]
    }
   ],
   "source": [
    "\n",
    "def factorial(n):\n",
    "    if n == 0:\n",
    "        return 1\n",
    "    else:\n",
    "        return n * factorial(n-1)\n",
    "\n",
    "num = int(input(\"Enter a number: \"))\n",
    "print(\"Factorial of\", num, \"is\", factorial(num))"
   ]
  },
  {
   "cell_type": "markdown",
   "metadata": {},
   "source": [
    "# Q.3 Write a Python program to find the largest element in a list?"
   ]
  },
  {
   "cell_type": "code",
   "execution_count": 3,
   "metadata": {},
   "outputs": [
    {
     "name": "stdout",
     "output_type": "stream",
     "text": [
      "Largest element is: 889\n"
     ]
    }
   ],
   "source": [
    "list = [349, 156, 889, 778, 489]\n",
    "\n",
    "# Printing the maximum element\n",
    "print(\"Largest element is:\", max(list))"
   ]
  },
  {
   "cell_type": "markdown",
   "metadata": {},
   "source": [
    "# Que. 4 Write a Python program to reverse a string?"
   ]
  },
  {
   "cell_type": "code",
   "execution_count": 5,
   "metadata": {},
   "outputs": [
    {
     "name": "stdout",
     "output_type": "stream",
     "text": [
      "Original string: hey mansi\n",
      "Reversed string: isnam yeh\n"
     ]
    }
   ],
   "source": [
    "def reverse_string(string):\n",
    "    return string[::-1]\n",
    "\n",
    "my_string = \"hey mansi\"\n",
    "reversed_string = reverse_string(my_string)\n",
    "print(\"Original string:\", my_string)\n",
    "print(\"Reversed string:\", reversed_string)"
   ]
  },
  {
   "cell_type": "markdown",
   "metadata": {},
   "source": [
    "# Q.5 Write a Python program to count the frequency of each element in a list?"
   ]
  },
  {
   "cell_type": "code",
   "execution_count": 6,
   "metadata": {},
   "outputs": [
    {
     "name": "stdout",
     "output_type": "stream",
     "text": [
      "{'20': 3, '10': 3, '30': 2, '50': 1}\n"
     ]
    }
   ],
   "source": [
    "random_list = ['20', '20', '10', '30', '10', '50', '20', '30', '10']\n",
    "frequency = {}\n",
    "for item in random_list:\n",
    "    if item in frequency:\n",
    "        frequency[item] += 1\n",
    "    else:\n",
    "        frequency[item] = 1\n",
    "\n",
    "print(frequency)"
   ]
  },
  {
   "cell_type": "markdown",
   "metadata": {},
   "source": [
    "# Q.6 Write a Python program to check if a number is prime?"
   ]
  },
  {
   "cell_type": "code",
   "execution_count": 10,
   "metadata": {},
   "outputs": [
    {
     "name": "stdout",
     "output_type": "stream",
     "text": [
      "2 is a prime number\n"
     ]
    }
   ],
   "source": [
    "num = 2\n",
    "if num > 1:\n",
    "    for i in range(2, (num//2)+1):\n",
    "        if (num % i) == 0:\n",
    "            print(num, \"is not a prime number\")\n",
    "            break\n",
    "    else:\n",
    "        print(num, \"is a prime number\")\n",
    "else:\n",
    "    print(num, \"is not a prime number\")"
   ]
  },
  {
   "cell_type": "markdown",
   "metadata": {},
   "source": [
    "# Q.7 Write a Python program to find the common elements between two lists?"
   ]
  },
  {
   "cell_type": "code",
   "execution_count": 13,
   "metadata": {},
   "outputs": [
    {
     "name": "stdout",
     "output_type": "stream",
     "text": [
      "The common elements are: {33, 11, 55}\n"
     ]
    }
   ],
   "source": [
    "a = [11, 22, 33, 44, 55]\n",
    "b = [55, 40, 71, 11, 33]\n",
    "\n",
    "result = (set(a) & set(b))\n",
    "\n",
    "if result:\n",
    "    print(\"The common elements are:\", result)\n",
    "else:\n",
    "    print(\"No common elements present in two arrays\")"
   ]
  },
  {
   "cell_type": "code",
   "execution_count": 12,
   "metadata": {},
   "outputs": [
    {
     "name": "stdout",
     "output_type": "stream",
     "text": [
      "Object `algorithm` not found.\n"
     ]
    }
   ],
   "source": [
    "Q.8 Write a Python program to sort a list of elements using the bubble sort algorithm?"
   ]
  },
  {
   "cell_type": "markdown",
   "metadata": {},
   "source": [
    "# Q.8 Write a Python program to sort a list of elements using the bubble sort algorithm"
   ]
  },
  {
   "cell_type": "code",
   "execution_count": 15,
   "metadata": {},
   "outputs": [
    {
     "name": "stdout",
     "output_type": "stream",
     "text": [
      "Sorted array: [4, 14, 34, 64, 74, 84, 94]\n"
     ]
    }
   ],
   "source": [
    "def bubble_sort(arr):\n",
    "    n = len(arr)\n",
    "    for i in range(n):\n",
    "        for j in range(0, n-i-1):\n",
    "            if arr[j] > arr[j+1]:\n",
    "                arr[j], arr[j+1] = arr[j+1], arr[j]\n",
    "\n",
    "arr = [64, 4, 94, 84, 14, 74, 34]\n",
    "bubble_sort(arr)\n",
    "print(\"Sorted array:\", arr)"
   ]
  },
  {
   "cell_type": "markdown",
   "metadata": {},
   "source": [
    "# Q.9 Write a Python program to find the second largest number in a list?"
   ]
  },
  {
   "cell_type": "code",
   "execution_count": 16,
   "metadata": {},
   "outputs": [
    {
     "name": "stdout",
     "output_type": "stream",
     "text": [
      "Enter number of elements:5\n",
      "Enter element:99\n",
      "Enter element:199\n",
      "Enter element:299\n",
      "Enter element:399\n",
      "Enter element:499\n",
      "Second largest element is: 399\n"
     ]
    }
   ],
   "source": [
    "a=[]\n",
    "n=int(input(\"Enter number of elements:\"))\n",
    "for i in range(1,n+1):\n",
    "    b=int(input(\"Enter element:\"))\n",
    "    a.append(b)\n",
    "a.sort()\n",
    "print(\"Second largest element is:\",a[n-2])"
   ]
  },
  {
   "cell_type": "markdown",
   "metadata": {},
   "source": [
    "# Q.10 Write a Python program to remove duplicates from a list?"
   ]
  },
  {
   "cell_type": "code",
   "execution_count": 19,
   "metadata": {},
   "outputs": [
    {
     "name": "stdout",
     "output_type": "stream",
     "text": [
      "Original list: [11, 22, 33, 33, 44, 44, 55]\n",
      "List after removing duplicates: [11, 22, 33, 44, 55]\n"
     ]
    }
   ],
   "source": [
    "def remove_duplicates(lst):\n",
    "    unique_list = []\n",
    "    for item in lst:\n",
    "        if item not in unique_list:\n",
    "            unique_list.append(item)\n",
    "    return unique_list\n",
    "\n",
    "original_list = [11, 22, 33, 33, 44, 44, 55]\n",
    "print(\"Original list:\", original_list)\n",
    "unique_list = remove_duplicates(original_list)\n",
    "print(\"List after removing duplicates:\", unique_list)"
   ]
  },
  {
   "cell_type": "markdown",
   "metadata": {},
   "source": [
    "# Q.11 What is Python?How do you comment in Python?"
   ]
  },
  {
   "cell_type": "markdown",
   "metadata": {},
   "source": [
    "Python is a high-level, interpreted programming language known for its simplicity and readability. It was created by Guido van Rossum and first released in 1991. Python supports multiple programming paradigms including object-oriented, imperative, functional, and procedural styles.\n",
    "\n",
    "Single-line comments: These comments begin with the # symbol and extend to the end of the line. They are used for brief explanations or annotations. [#This is a single-line comment in Python]\n",
    "\n",
    "Multi-line comments (docstrings): These comments are enclosed within triple quotes (''' or \"\"\") and can span multiple lines. They are typically used for function, class, or module documentation."
   ]
  },
  {
   "cell_type": "markdown",
   "metadata": {},
   "source": [
    "# Q.12 What are the key features of Python?"
   ]
  },
  {
   "cell_type": "markdown",
   "metadata": {},
   "source": [
    "Key features of Python include:\n",
    "\n",
    "Easy to Learn and Use: Python has a simple and easy-to-understand syntax, making it accessible for beginners.\n",
    "\n",
    "Interpreted and Interactive: Python is an interpreted language, allowing for immediate code execution and interactive exploration.\n",
    "\n",
    "Object-Oriented: Python supports object-oriented programming paradigms, facilitating code organization and reuse.\n",
    "\n",
    "High-level Language: Python abstracts low-level details, enabling developers to focus on solving problems rather than dealing with memory management or system-level operations.\n",
    "\n",
    "Extensive Standard Library: Python comes with a vast standard library containing modules and functions for various tasks, reducing the need for external dependencies.\n",
    "\n",
    "Dynamic Typing: Python is dynamically typed, allowing variables to be assigned without declaring their type explicitly, enhancing flexibility and productivity."
   ]
  },
  {
   "cell_type": "markdown",
   "metadata": {},
   "source": [
    "# Q.13 Explain the difference between a list and a tuple?What is the purpose of the ‘self’ parameter in Python?"
   ]
  },
  {
   "cell_type": "markdown",
   "metadata": {},
   "source": [
    "list:Lists are mutable, meaning that their elements can be modified after creation. You can add, remove, or change elements in a list. Lists are enclosed in square brackets [ ] and elements are separated by commas. Due to their mutability, lists typically consume more memory and may have slower performance compared to tuples, especially for large collections of data.\n",
    "\n",
    "tuple:Tuples, on the other hand, are immutable, meaning that once they are created, their elements cannot be changed. You cannot add, remove, or modify elements in a tuple. Tuples are enclosed in parentheses ( ) and elements are separated by commas. Tuples are often used for fixed collections of data that should not be changed, such as representing coordinates, database records, or function return values.\n",
    "\n",
    "Purpose of the ‘self’ parameter in Python:\n",
    "\n",
    "In Python, the self parameter is used within methods of a class to refer to the current instance of the class. When you define a method in a class, you need to include self as the first parameter in the method definition."
   ]
  },
  {
   "cell_type": "markdown",
   "metadata": {},
   "source": [
    "# Q.14 What is a module in Python?"
   ]
  },
  {
   "cell_type": "markdown",
   "metadata": {},
   "source": [
    "A module in Python is a file containing Python code. It can define functions, classes, and variables that can be reused in other Python scripts. Modules allow for better organization and reusability of code. Python's standard library consists of many modules that provide useful functionalities for various tasks networking, mathematics, and more. Additionally, users can create their own modules to encapsulate related code and promote code reuse across projects."
   ]
  },
  {
   "cell_type": "markdown",
   "metadata": {},
   "source": [
    "# Q.15 How do you handle exceptions in Python?"
   ]
  },
  {
   "cell_type": "markdown",
   "metadata": {},
   "source": [
    "Exceptions in Python can be handled using try-except blocks. The try block contains the code that may raise an exception, and the except block catches and handles the exception if it occurs."
   ]
  },
  {
   "cell_type": "markdown",
   "metadata": {},
   "source": [
    "# Q.16 What is the purpose of the ‘if name == “main”’ statement?"
   ]
  },
  {
   "cell_type": "markdown",
   "metadata": {},
   "source": [
    "The if name == \"main\": statement is used to determine whether a Python script is being run as the main program or being imported as a module into another script. This allows for separating code that should only run when the script is executed directly from code that should not run when the script is imported.\n",
    "\n",
    "if name == \"main\": print(\"This script is being run directly.\")"
   ]
  },
  {
   "cell_type": "markdown",
   "metadata": {},
   "source": [
    "# Q.17 Explain the difference between ‘append()’ and ‘extend()’ methods for lists?"
   ]
  },
  {
   "cell_type": "code",
   "execution_count": 22,
   "metadata": {},
   "outputs": [
    {
     "name": "stdout",
     "output_type": "stream",
     "text": [
      "[1, 2, 4, 3]\n"
     ]
    }
   ],
   "source": [
    "#append(): The append() method is used to add a single element to the end of a list.\n",
    "my_list = [1, 2, 4]\n",
    "my_list.append(3)\n",
    "print(my_list) "
   ]
  },
  {
   "cell_type": "code",
   "execution_count": 23,
   "metadata": {},
   "outputs": [
    {
     "data": {
      "text/plain": [
       "[4, 5, 6, 7, 1]"
      ]
     },
     "execution_count": 23,
     "metadata": {},
     "output_type": "execute_result"
    }
   ],
   "source": [
    "my_list = [4,5,6]\n",
    "my_list.extend([7,1])\n",
    "my_list"
   ]
  },
  {
   "cell_type": "markdown",
   "metadata": {},
   "source": [
    "# Q.18 What is the ‘str’ function used for in Python?"
   ]
  },
  {
   "cell_type": "markdown",
   "metadata": {},
   "source": [
    "The str() function in Python is a built-in function used to convert non-string objects into string representations. It takes an object as input and returns its string representation. This function is commonly used when you need to concatenate strings with other data types, print variables, or convert data types for display purposes. For example, you can convert integers, floats, lists, tuples, dictionaries, and other objects into strings using the str() function."
   ]
  },
  {
   "cell_type": "markdown",
   "metadata": {},
   "source": [
    "# Q.19 Explain the difference between mutable and immutable data types in Python?"
   ]
  },
  {
   "cell_type": "markdown",
   "metadata": {},
   "source": [
    "In Python, mutable data types are those whose values can be changed after creation, while immutable data types are those whose values cannot be changed after creation. Mutable data types include lists, dictionaries, and sets, which allow modifications like adding, removing, or updating elements without creating a new object. On the other hand, immutable data types include integers, floats, strings, tuples, and frozensets. Once created, immutable objects cannot be modified; any operation that appears to modify them actually creates a new object. Understanding the difference is crucial for efficient memory management and ensuring data integrity in Python programs."
   ]
  },
  {
   "cell_type": "markdown",
   "metadata": {},
   "source": [
    "# Q.20 How do you perform a shallow copy and a deep copy of a list in Python?"
   ]
  },
  {
   "cell_type": "markdown",
   "metadata": {},
   "source": [
    "Shallow Copy:\n",
    "\n",
    "Use the copy() method or the copy.copy() function from the copy module. Example: new_list = original_list.copy() or import copy; new_list = copy.copy(original_list). Shallow copy creates a new list object but does not recursively clone nested objects. Changes to nested objects in the copied list will affect the original list. Deep Copy:\n",
    "\n",
    "Use the deepcopy() function from the copy module. Example: import copy; new_list = copy.deepcopy(original_list). Deep copy creates a new list object and recursively clones all nested objects. Changes to nested objects in the copied list won't affect the original list."
   ]
  },
  {
   "cell_type": "code",
   "execution_count": 25,
   "metadata": {},
   "outputs": [
    {
     "data": {
      "text/plain": [
       "[1, 2, [3, 4]]"
      ]
     },
     "execution_count": 25,
     "metadata": {},
     "output_type": "execute_result"
    }
   ],
   "source": [
    "original_list = [1, 2, [3, 4]]\n",
    "shallow_copy = original_list.copy() \n",
    "shallow_copy"
   ]
  },
  {
   "cell_type": "code",
   "execution_count": 26,
   "metadata": {},
   "outputs": [],
   "source": [
    "import copy\n",
    "original_list = [1, 2, [3, 4]]\n",
    "deep_copy = copy.deepcopy(original_list)"
   ]
  },
  {
   "cell_type": "markdown",
   "metadata": {},
   "source": [
    "# Q.21 What is a decorator in Python?"
   ]
  },
  {
   "cell_type": "markdown",
   "metadata": {},
   "source": [
    "A decorator in Python is a design pattern that allows you to modify or extend the behavior of functions or methods without changing their actual implementation. Decorators are implemented using functions that take another function as an argument and return a new function that extends or modifies the behavior of the original function."
   ]
  },
  {
   "cell_type": "code",
   "execution_count": 27,
   "metadata": {},
   "outputs": [
    {
     "name": "stdout",
     "output_type": "stream",
     "text": [
      "Before calling the function\n",
      "Inside the function\n",
      "After calling the function\n"
     ]
    }
   ],
   "source": [
    "def decorator(func):\n",
    "    def wrapper():\n",
    "        print(\"Before calling the function\")\n",
    "        func()\n",
    "        print(\"After calling the function\")\n",
    "    return wrapper\n",
    "\n",
    "@decorator\n",
    "def my_function():\n",
    "    print(\"Inside the function\")\n",
    "\n",
    "my_function()"
   ]
  },
  {
   "cell_type": "markdown",
   "metadata": {},
   "source": [
    "# Q.22 How can you convert a string to an integer in Python?"
   ]
  },
  {
   "cell_type": "code",
   "execution_count": 28,
   "metadata": {},
   "outputs": [
    {
     "name": "stdout",
     "output_type": "stream",
     "text": [
      "13975\n"
     ]
    }
   ],
   "source": [
    "num_str = \"13975\"\n",
    "num_int = int(num_str)\n",
    "print(num_int) "
   ]
  },
  {
   "cell_type": "markdown",
   "metadata": {},
   "source": [
    "# Q.23 What is the purpose of the ‘pass’ statement in Python?"
   ]
  },
  {
   "cell_type": "markdown",
   "metadata": {},
   "source": [
    "The pass statement in Python is a null operation. It is used as a placeholder when a statement is syntactically required but you don't want to execute any code. It is often used as a placeholder in empty code blocks, function definitions, or conditional statements."
   ]
  },
  {
   "cell_type": "code",
   "execution_count": 29,
   "metadata": {},
   "outputs": [],
   "source": [
    "def my_function():\n",
    "    #  Implement this function later\n",
    "    pass"
   ]
  },
  {
   "cell_type": "markdown",
   "metadata": {},
   "source": [
    "# Q.24 What is the purpose of the ‘range()’ function?"
   ]
  },
  {
   "cell_type": "code",
   "execution_count": 30,
   "metadata": {},
   "outputs": [
    {
     "name": "stdout",
     "output_type": "stream",
     "text": [
      "0\n",
      "1\n",
      "2\n",
      "3\n",
      "4\n",
      "5\n"
     ]
    }
   ],
   "source": [
    "for i in range(6):\n",
    "    print(i) "
   ]
  },
  {
   "cell_type": "markdown",
   "metadata": {},
   "source": [
    "# Q.25 What is a lambda function?"
   ]
  },
  {
   "cell_type": "code",
   "execution_count": 31,
   "metadata": {},
   "outputs": [
    {
     "name": "stdout",
     "output_type": "stream",
     "text": [
      "15\n"
     ]
    }
   ],
   "source": [
    "add = lambda x, y: x + y\n",
    "print(add(9, 6))"
   ]
  },
  {
   "cell_type": "markdown",
   "metadata": {},
   "source": [
    "# Q.26 Explain indexing and slicing in Python?"
   ]
  },
  {
   "cell_type": "code",
   "execution_count": 32,
   "metadata": {},
   "outputs": [
    {
     "name": "stdout",
     "output_type": "stream",
     "text": [
      "1\n",
      "5\n"
     ]
    }
   ],
   "source": [
    "# Indexing\n",
    "my_list = [1, 2, 3, 4, 5]\n",
    "print(my_list[0])   \n",
    "print(my_list[-1]) "
   ]
  },
  {
   "cell_type": "code",
   "execution_count": 33,
   "metadata": {},
   "outputs": [
    {
     "name": "stdout",
     "output_type": "stream",
     "text": [
      "[2, 3, 4]\n",
      "[1, 3, 5]\n"
     ]
    }
   ],
   "source": [
    "# Slicing\n",
    "my_list = [1, 2, 3, 4, 5]\n",
    "print(my_list[1:4])    \n",
    "print(my_list[::2]) "
   ]
  },
  {
   "cell_type": "markdown",
   "metadata": {},
   "source": [
    "# Q.27 How can you reverse a list in Python?"
   ]
  },
  {
   "cell_type": "code",
   "execution_count": 34,
   "metadata": {},
   "outputs": [
    {
     "name": "stdout",
     "output_type": "stream",
     "text": [
      "[5, 4, 3, 2, 1]\n"
     ]
    }
   ],
   "source": [
    "my_list = [1, 2, 3, 4, 5]\n",
    "reversed_list = my_list[::-1]\n",
    "print(reversed_list)  "
   ]
  },
  {
   "cell_type": "markdown",
   "metadata": {},
   "source": [
    "# Q.28 What is the difference between ‘pop()’ and ‘remove()’ methods for lists?"
   ]
  },
  {
   "cell_type": "code",
   "execution_count": 35,
   "metadata": {},
   "outputs": [
    {
     "name": "stdout",
     "output_type": "stream",
     "text": [
      "[1, 2, 4, 5]\n",
      "3\n"
     ]
    }
   ],
   "source": [
    "# pop(): The pop() method removes and returns the element at the specified index.\n",
    "# If no index is specified, it removes and returns the last element of the list.\n",
    "\n",
    "my_list = [1, 2, 3, 4, 5]\n",
    "popped_element = my_list.pop(2)\n",
    "print(my_list)         \n",
    "print(popped_element)"
   ]
  },
  {
   "cell_type": "code",
   "execution_count": 36,
   "metadata": {},
   "outputs": [
    {
     "name": "stdout",
     "output_type": "stream",
     "text": [
      "[1, 2, 4, 5]\n"
     ]
    }
   ],
   "source": [
    "# remove(): The remove() method removes the first occurrence of the specified element from the list.\n",
    "\n",
    "my_list = [1, 2, 3, 4, 5]\n",
    "my_list.remove(3)\n",
    "print(my_list)"
   ]
  },
  {
   "cell_type": "markdown",
   "metadata": {},
   "source": [
    "# Q.29 What is a set in Python? Difference between frozenset or NormalSet?"
   ]
  },
  {
   "cell_type": "code",
   "execution_count": 38,
   "metadata": {},
   "outputs": [],
   "source": [
    "# A set in Python is an unordered collection of unique elements. \n",
    "# Sets are mutable, meaning their elements can be added or removed \n",
    "# after the set is created. Sets do not allow duplicate elements.\n",
    "\n",
    "my_set = {1, 2, 3, 4, 5}"
   ]
  },
  {
   "cell_type": "code",
   "execution_count": 39,
   "metadata": {},
   "outputs": [],
   "source": [
    "# frozenset: A frozenset is an immutable version of a set.\n",
    "# Once created, its elements cannot be changed or modified.\n",
    "\n",
    "my_frozenset = frozenset({1, 2, 3, 4, 5})"
   ]
  },
  {
   "cell_type": "markdown",
   "metadata": {},
   "source": [
    "# Q.30 What is a dictionary comprehension in Python?"
   ]
  },
  {
   "cell_type": "code",
   "execution_count": 40,
   "metadata": {},
   "outputs": [
    {
     "name": "stdout",
     "output_type": "stream",
     "text": [
      "{1: 1, 2: 4, 3: 9, 4: 16, 5: 25}\n"
     ]
    }
   ],
   "source": [
    "# Dictionary comprehension is a concise and efficient way to create dictionaries in Python.\n",
    "# It allows you to generate dictionaries using a single line of code by specifying key-value \n",
    "# pairs and optional conditions.\n",
    "\n",
    "\n",
    "square_dict = {x: x*x for x in range(1, 6)}\n",
    "print(square_dict) "
   ]
  },
  {
   "cell_type": "markdown",
   "metadata": {},
   "source": [
    "# Q.31 How can you convert a list of strings to a single string in Python?"
   ]
  },
  {
   "cell_type": "code",
   "execution_count": 41,
   "metadata": {},
   "outputs": [
    {
     "name": "stdout",
     "output_type": "stream",
     "text": [
      "Hey Mansi !\n"
     ]
    }
   ],
   "source": [
    "my_list = [\"Hey\", \"Mansi\", \"!\"]\n",
    "my_string = \" \".join(my_list)\n",
    "print(my_string)"
   ]
  },
  {
   "cell_type": "markdown",
   "metadata": {},
   "source": [
    "# Q.32 How can you find the length of a string in Python?"
   ]
  },
  {
   "cell_type": "code",
   "execution_count": 42,
   "metadata": {},
   "outputs": [
    {
     "name": "stdout",
     "output_type": "stream",
     "text": [
      "11\n"
     ]
    }
   ],
   "source": [
    "my_string = \"Hey, Mansi!\"\n",
    "length = len(my_string)\n",
    "print(length)"
   ]
  },
  {
   "cell_type": "markdown",
   "metadata": {},
   "source": [
    "# Q.33 How can you convert a string to uppercase and lowercase in Python?"
   ]
  },
  {
   "cell_type": "code",
   "execution_count": 43,
   "metadata": {},
   "outputs": [
    {
     "name": "stdout",
     "output_type": "stream",
     "text": [
      "BHOKARDOLE\n",
      "bhokardole\n"
     ]
    }
   ],
   "source": [
    "my_string = \"bhokardole\"\n",
    "upper_string = my_string.upper()\n",
    "lower_string = my_string.lower()\n",
    "print(upper_string)  \n",
    "print(lower_string)"
   ]
  },
  {
   "cell_type": "markdown",
   "metadata": {},
   "source": [
    "# Q.34 Explain the purpose of the ‘random’ module in Python?"
   ]
  },
  {
   "cell_type": "markdown",
   "metadata": {},
   "source": [
    "Random Module\n",
    "It is a inbuild function in python To use ramdom module firstly import Random module There are some pre-defined function in random module 1st . Randint function (1st,last,step) we will provide 1st number , last number and step value Then it will create array. like a = random.randint(1,10,3) it will create array any random number in between 1 and 10 but 1st number include and last number exclude We will used to generate OTP and we will also use in games\n",
    "\n",
    "2nd . Rand Function (Total number) we will provide total number value and it will create an array any random number but in between 0 to 1 for example a = random.rand(10) then it will generate 10 number but any random number from 0 to 1 like 0.235, 0.114,0.996 like that\n",
    "\n",
    "3rd. Randn Function (total_number) we will provide total number value like rand function but it will create an array any random number but in between -3 to 3. for example a = random.randn (10) it will generate 10 random number in between -3 to 3"
   ]
  },
  {
   "cell_type": "code",
   "execution_count": null,
   "metadata": {},
   "outputs": [],
   "source": []
  }
 ],
 "metadata": {
  "kernelspec": {
   "display_name": "Python 3",
   "language": "python",
   "name": "python3"
  },
  "language_info": {
   "codemirror_mode": {
    "name": "ipython",
    "version": 3
   },
   "file_extension": ".py",
   "mimetype": "text/x-python",
   "name": "python",
   "nbconvert_exporter": "python",
   "pygments_lexer": "ipython3",
   "version": "3.8.5"
  }
 },
 "nbformat": 4,
 "nbformat_minor": 4
}
